{
 "cells": [
  {
   "cell_type": "code",
   "execution_count": 1,
   "id": "311d7cab",
   "metadata": {},
   "outputs": [],
   "source": [
    "import requests"
   ]
  },
  {
   "cell_type": "code",
   "execution_count": 2,
   "id": "8a1bd90c",
   "metadata": {},
   "outputs": [],
   "source": [
    "url = \"http://127.0.0.1:9696/predict\""
   ]
  },
  {
   "cell_type": "code",
   "execution_count": 3,
   "id": "60ca0728",
   "metadata": {},
   "outputs": [],
   "source": [
    "customer = {\"country\": \"Kenya\",\n",
    "            \"year\": 2018,\n",
    "            \"uniqueid\": \"uniqueid_6056\",\n",
    "            \"location_type\": \"Urban\",\n",
    "            \"cellphone_access\": \"Yes\",\n",
    "            \"household_size\": 3,\n",
    "            \"age_of_respondent\": 30,\n",
    "            \"gender_of_respondent\": \"Male\",\n",
    "            \"relationship_with_head\": \"Head of Household\",\n",
    "            \"marital_status\": \"Married/Living together\",\n",
    "            \"education_level\": \"Secondary education\",\n",
    "            \"job_type\": \"Formally employed Government\"\n",
    "            }"
   ]
  },
  {
   "cell_type": "code",
   "execution_count": 4,
   "id": "5b15c3a7",
   "metadata": {},
   "outputs": [
    {
     "data": {
      "text/plain": [
       "{'Customer has account': False}"
      ]
     },
     "execution_count": 4,
     "metadata": {},
     "output_type": "execute_result"
    }
   ],
   "source": [
    "requests.post(url, json=customer).json()"
   ]
  },
  {
   "cell_type": "code",
   "execution_count": null,
   "id": "f02f5551",
   "metadata": {},
   "outputs": [],
   "source": []
  }
 ],
 "metadata": {
  "kernelspec": {
   "display_name": "Python 3 (ipykernel)",
   "language": "python",
   "name": "python3"
  },
  "language_info": {
   "codemirror_mode": {
    "name": "ipython",
    "version": 3
   },
   "file_extension": ".py",
   "mimetype": "text/x-python",
   "name": "python",
   "nbconvert_exporter": "python",
   "pygments_lexer": "ipython3",
   "version": "3.10.6"
  }
 },
 "nbformat": 4,
 "nbformat_minor": 5
}
